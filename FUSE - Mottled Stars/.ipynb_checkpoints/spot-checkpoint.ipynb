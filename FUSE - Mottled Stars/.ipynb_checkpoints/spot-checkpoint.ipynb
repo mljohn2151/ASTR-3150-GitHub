{
 "cells": [
  {
   "cell_type": "code",
   "execution_count": 1,
   "metadata": {},
   "outputs": [],
   "source": [
    "%matplotlib inline\n",
    "import numpy as np\n",
    "import matplotlib.pyplot as plt\n",
    "from mpl_toolkits import mplot3d\n",
    "from mpl_toolkits.mplot3d import Axes3D\n",
    "from matplotlib import cm\n",
    "from matplotlib.ticker import LinearLocator\n",
    "from math import pi\n",
    "from random import randint\n",
    "import numpy.random as rand\n",
    "import matplotlib.colors as colors\n",
    "cconverter=colors.ColorConverter()\n",
    "from mpl_toolkits.mplot3d import Axes3D"
   ]
  },
  {
   "cell_type": "code",
   "execution_count": 2,
   "metadata": {},
   "outputs": [],
   "source": [
    "def spot(r, ρ, spot_ratio):\n",
    "    \n",
    "    lat = np.linspace(-np.pi/2, np.pi/2, 60)\n",
    "    lon = np.linspace(-np.pi,   np.pi,  120)\n",
    "    x3d = r * np.outer(np.cos(np.pi+lon), np.sin(np.pi/2 + lat))\n",
    "    y3d = r * np.outer(np.sin(np.pi+lon), np.sin(np.pi/2 + lat))\n",
    "    z3d = r * np.outer(np.ones(np.size(lon)), np.cos(np.pi/2 + lat))\n",
    "    \n",
    "    el_colors = np.full(x3d.shape, \"y\", dtype=str)\n",
    "    N_elems = len(lat)*len(lon)\n",
    "    N_spots = int(ρ*N_elems)\n",
    "\n",
    "    for n in range(N_spots):\n",
    "        x_spot = rand.randint(0, x3d.shape[0])\n",
    "        y_spot = rand.randint(0, x3d.shape[1])\n",
    "        el_colors[x_spot, y_spot] = \"r\"\n",
    "        \n",
    "    brightness = []\n",
    "    \n",
    "    rot_angle = np.linspace(0, 2 * np.pi, 120)\n",
    "\n",
    "    for zp in range(120):\n",
    "        phi_0 = lon[zp]\n",
    "        phi = np.linspace(phi_0 - np.pi/2, phi_0 + np.pi/2, 60)\n",
    "        x = r * np.sin(phi - phi[0] - np.pi/2)\n",
    "        y = r * np.sin(lat)\n",
    "    \n",
    "        dx = []\n",
    "        dy = []\n",
    "    \n",
    "        spot_data = []\n",
    "        df = []\n",
    "    \n",
    "        for q in range(len(x)-1):\n",
    "            dx.append(np.absolute(x[q]-x[q+1]))\n",
    "        for q in range(len(y)-1):\n",
    "            dy.append(np.absolute(y[q]-y[q+1]))\n",
    "    \n",
    "        for i in range(len(dx)):\n",
    "            k = zp -30 +i\n",
    "            if (zp - 30 + i) < 0:\n",
    "                k = 119 + (zp-30+i)\n",
    "            elif (zp - 30 + i) > 119: \n",
    "                k = (zp -30 +i) - 119\n",
    "            else:\n",
    "                k = zp - 30 + i\n",
    "\n",
    "            for j in range(len(dy)):\n",
    "                dA = dx[i]*dy[j]\n",
    "                if el_colors[k,j] == \"r\":\n",
    "                    df.append((spot_ratio**4)*dA)\n",
    "                else:\n",
    "                    df.append(dA)\n",
    "                           \n",
    "        brightness.append(sum(df))\n",
    "        \n",
    "    return (1 - min(brightness)/max(brightness))"
   ]
  },
  {
   "cell_type": "code",
   "execution_count": 4,
   "metadata": {
    "scrolled": true
   },
   "outputs": [
    {
     "data": {
      "image/png": "[encoded data removed]",
      "text/plain": [
       "<Figure size 432x288 with 1 Axes>"
      ]
     },
     "metadata": {
      "needs_background": "light"
     },
     "output_type": "display_data"
    }
   ],
   "source": [
    "brightness_data1 = []\n",
    "for i in range(1000):\n",
    "    brightness_data1.append(spot(100,.9,.85))\n",
    "fig = plt.hist(brightness_data1, bins = 30) "
   ]
  },
  {
   "cell_type": "code",
   "execution_count": 5,
   "metadata": {},
   "outputs": [
    {
     "data": {
      "image/png": "[encoded data removed]",
      "text/plain": [
       "<Figure size 432x288 with 1 Axes>"
      ]
     },
     "metadata": {
      "needs_background": "light"
     },
     "output_type": "display_data"
    }
   ],
   "source": [
    "brightness_data2 = []\n",
    "for i in range(1000):\n",
    "    brightness_data2.append(spot(100,.6,.88))\n",
    "fig = plt.hist(brightness_data2, bins = 30) "
   ]
  },
  {
   "cell_type": "code",
   "execution_count": 9,
   "metadata": {},
   "outputs": [
    {
     "data": {
      "text/plain": [
       "(array([20.84254061, 72.43637064, 92.25386827, 75.85318057, 53.64391599,\n",
       "        18.45077365,  6.49193888,  1.02504298,  0.34168099,  0.34168099]),\n",
       " array([0.00251108, 0.00543778, 0.00836449, 0.0112912 , 0.0142179 ,\n",
       "        0.01714461, 0.02007132, 0.02299802, 0.02592473, 0.02885143,\n",
       "        0.03177814]),\n",
       " <a list of 10 Patch objects>)"
      ]
     },
     "execution_count": 9,
     "metadata": {},
     "output_type": "execute_result"
    },
    {
     "data": {
      "image/png": "[encoded data removed]",
      "text/plain": [
       "<Figure size 432x288 with 1 Axes>"
      ]
     },
     "metadata": {
      "needs_background": "light"
     },
     "output_type": "display_data"
    }
   ],
   "source": [
    "plt.hist(brightness_data1, alpha=0.7, bins = 10, density=True) \n",
    "plt.hist(brightness_data2, alpha=0.7, bins = 10, density=True)"
   ]
  },
  {
   "cell_type": "code",
   "execution_count": null,
   "metadata": {},
   "outputs": [],
   "source": []
  }
 ],
 "metadata": {
  "kernelspec": {
   "display_name": "Python 3",
   "language": "python",
   "name": "python3"
  },
  "language_info": {
   "codemirror_mode": {
    "name": "ipython",
    "version": 3
   },
   "file_extension": ".py",
   "mimetype": "text/x-python",
   "name": "python",
   "nbconvert_exporter": "python",
   "pygments_lexer": "ipython3",
   "version": "3.7.3"
  }
 },
 "nbformat": 4,
 "nbformat_minor": 2
}
