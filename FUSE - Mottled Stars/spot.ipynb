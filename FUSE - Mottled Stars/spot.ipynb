{
 "cells": [
  {
   "cell_type": "code",
   "execution_count": 18,
   "metadata": {},
   "outputs": [],
   "source": [
    "%matplotlib inline\n",
    "import numpy as np\n",
    "import matplotlib.pyplot as plt\n",
    "from mpl_toolkits import mplot3d\n",
    "from mpl_toolkits.mplot3d import Axes3D\n",
    "from matplotlib import cm\n",
    "from matplotlib.ticker import LinearLocator\n",
    "from math import pi\n",
    "from random import randint\n",
    "import numpy.random as rand\n",
    "import matplotlib.colors as colors\n",
    "cconverter=colors.ColorConverter()\n",
    "from mpl_toolkits.mplot3d import Axes3D\n",
    "import scipy.stats as stat"
   ]
  },
  {
   "cell_type": "code",
   "execution_count": 2,
   "metadata": {},
   "outputs": [],
   "source": [
    "def spot(r, ρ, ϖ):\n",
    "    \n",
    "    lat = np.linspace(-np.pi/2, np.pi/2, 60)\n",
    "    lon = np.linspace(-np.pi,   np.pi,  120)\n",
    "    x3d = r * np.outer(np.cos(np.pi+lon), np.sin(np.pi/2 + lat))\n",
    "    y3d = r * np.outer(np.sin(np.pi+lon), np.sin(np.pi/2 + lat))\n",
    "    z3d = r * np.outer(np.ones(np.size(lon)), np.cos(np.pi/2 + lat))\n",
    "    \n",
    "    el_colors = np.full(x3d.shape, \"y\", dtype=str)\n",
    "    N_elems = len(lat)*len(lon)\n",
    "    N_spots = int(ρ*N_elems)\n",
    "\n",
    "    for n in range(N_spots):\n",
    "        x_spot = rand.randint(0, x3d.shape[0])\n",
    "        y_spot = rand.randint(0, x3d.shape[1])\n",
    "        el_colors[x_spot, y_spot] = \"r\"\n",
    "        \n",
    "    brightness = []\n",
    "    \n",
    "    rot_angle = np.linspace(0, 2 * np.pi, 120)\n",
    "\n",
    "    for zp in range(120):\n",
    "        phi_0 = lon[zp]\n",
    "        phi = np.linspace(phi_0 - np.pi/2, phi_0 + np.pi/2, 60)\n",
    "        x = r * np.sin(phi - phi[0] - np.pi/2)\n",
    "        y = r * np.sin(lat)\n",
    "    \n",
    "        dx = []\n",
    "        dy = []\n",
    "    \n",
    "        spot_data = []\n",
    "        df = []\n",
    "    \n",
    "        for q in range(len(x)-1):\n",
    "            dx.append(np.absolute(x[q]-x[q+1]))\n",
    "        for q in range(len(y)-1):\n",
    "            dy.append(np.absolute(y[q]-y[q+1]))\n",
    "    \n",
    "        for i in range(len(dx)):\n",
    "            k = zp -30 +i\n",
    "            if (zp - 30 + i) < 0:\n",
    "                k = 119 + (zp-30+i)\n",
    "            elif (zp - 30 + i) > 119: \n",
    "                k = (zp -30 +i) - 119\n",
    "            else:\n",
    "                k = zp - 30 + i\n",
    "\n",
    "            for j in range(len(dy)):\n",
    "                dA = dx[i]*dy[j]\n",
    "                if el_colors[k,j] == \"r\":\n",
    "                    df.append((ϖ**5)*dA)\n",
    "                else:\n",
    "                    df.append(dA)\n",
    "                           \n",
    "        brightness.append(sum(df))\n",
    "        \n",
    "    return (1 - min(brightness)/max(brightness))"
   ]
  },
  {
   "cell_type": "code",
   "execution_count": 3,
   "metadata": {
    "scrolled": true
   },
   "outputs": [],
   "source": [
    "brightness_data1 = []\n",
    "for i in range(1000):\n",
    "    brightness_data1.append(spot(100,.9,.85))"
   ]
  },
  {
   "cell_type": "code",
   "execution_count": 35,
   "metadata": {},
   "outputs": [
    {
     "data": {
      "text/plain": [
       "<matplotlib.legend.Legend at 0x120742d4048>"
      ]
     },
     "execution_count": 35,
     "metadata": {},
     "output_type": "execute_result"
    },
    {
     "data": {
      "image/png": "[encoded data removed]",
      "text/plain": [
       "<Figure size 432x288 with 1 Axes>"
      ]
     },
     "metadata": {
      "needs_background": "light"
     },
     "output_type": "display_data"
    }
   ],
   "source": [
    "kde1 = stat.gaussian_kde(brightness_data1)\n",
    "x_vals1 = np.arange(0, 0.055, 0.0001)\n",
    "y_vals1 = kde1(x_vals1)\n",
    "\n",
    "fig = plt.hist(brightness_data1, bins = 20, label = \"ϱ = 0.90 | ϖ = 0.85\", density = True, alpha = 0.2) \n",
    "plt.plot(x_vals1, y_vals1, lw = 4, c = 'b')\n",
    "plt.legend()"
   ]
  },
  {
   "cell_type": "code",
   "execution_count": 5,
   "metadata": {},
   "outputs": [],
   "source": [
    "brightness_data2 = []\n",
    "for i in range(1000):\n",
    "    brightness_data2.append(spot(100,.6,.88))"
   ]
  },
  {
   "cell_type": "code",
   "execution_count": 6,
   "metadata": {},
   "outputs": [
    {
     "data": {
      "image/png": "[encoded data removed]",
      "text/plain": [
       "<Figure size 432x288 with 1 Axes>"
      ]
     },
     "metadata": {
      "needs_background": "light"
     },
     "output_type": "display_data"
    }
   ],
   "source": [
    "fig = plt.hist(brightness_data2, bins = 30, label = \"ϱ = 0.60 | ϖ = 0.88\")\n",
    "plt.legend()"
   ]
  },
  {
   "cell_type": "code",
   "execution_count": 12,
   "metadata": {},
   "outputs": [
    {
     "data": {
      "text/plain": [
       "<matplotlib.legend.Legend at 0x12071c11a90>"
      ]
     },
     "execution_count": 12,
     "metadata": {},
     "output_type": "execute_result"
    },
    {
     "data": {
      "image/png": "[encoded data removed]",
      "text/plain": [
       "<Figure size 432x288 with 1 Axes>"
      ]
     },
     "metadata": {
      "needs_background": "light"
     },
     "output_type": "display_data"
    }
   ],
   "source": [
    "plt.hist(brightness_data1, alpha=0.7, bins = 30, density=True, label = \"ϱ = 0.90 | ϖ = 0.85\") \n",
    "plt.hist(brightness_data2, alpha=0.7, bins = 30, density=True, label = \"ϱ = 0.60 | ϖ = 0.88\")\n",
    "plt.legend()"
   ]
  },
  {
   "cell_type": "code",
   "execution_count": 8,
   "metadata": {},
   "outputs": [],
   "source": [
    "brightness_data3 = []\n",
    "brightness_data4 = []\n",
    "for i in range(1000):\n",
    "    brightness_data3.append(spot(100, 0.50, 0.80))\n",
    "    brightness_data4.append(spot(100, 0.75, 0.80))"
   ]
  },
  {
   "cell_type": "code",
   "execution_count": 9,
   "metadata": {},
   "outputs": [
    {
     "data": {
      "text/plain": [
       "<matplotlib.legend.Legend at 0x12071a37dd8>"
      ]
     },
     "execution_count": 9,
     "metadata": {},
     "output_type": "execute_result"
    },
    {
     "data": {
      "image/png": "[encoded data removed]",
      "text/plain": [
       "<Figure size 432x288 with 1 Axes>"
      ]
     },
     "metadata": {
      "needs_background": "light"
     },
     "output_type": "display_data"
    }
   ],
   "source": [
    "fig = plt.hist(brightness_data3, alpha=0.7, bins = 30, label = \"ϱ = 0.50 | ϖ = 0.80\") \n",
    "plt.hist(brightness_data4, alpha=0.7, bins = 30, label = \"ϱ = 0.75 | ϖ = 0.80\")\n",
    "plt.legend()"
   ]
  },
  {
   "cell_type": "code",
   "execution_count": 10,
   "metadata": {},
   "outputs": [],
   "source": [
    "brightness_data5 = []\n",
    "brightness_data6 = []\n",
    "\n",
    "for i in range(1000):\n",
    "    brightness_data5.append(spot(100, .56, .90))\n",
    "    brightness_data6.append(spot(100 ,.80, .90))"
   ]
  },
  {
   "cell_type": "code",
   "execution_count": 11,
   "metadata": {},
   "outputs": [
    {
     "data": {
      "text/plain": [
       "<matplotlib.legend.Legend at 0x12071b29d68>"
      ]
     },
     "execution_count": 11,
     "metadata": {},
     "output_type": "execute_result"
    },
    {
     "data": {
      "image/png": "[encoded data removed]",
      "text/plain": [
       "<Figure size 432x288 with 1 Axes>"
      ]
     },
     "metadata": {
      "needs_background": "light"
     },
     "output_type": "display_data"
    }
   ],
   "source": [
    "fig = plt.hist(brightness_data5, alpha=0.7, bins = 30, label = \"ϱ = 0.56 | ϖ = 0.90\") \n",
    "plt.hist(brightness_data6, alpha=0.7, bins = 30, label = \"ϱ = 0.80 | ϖ = 0.90\")\n",
    "plt.legend()"
   ]
  },
  {
   "cell_type": "code",
   "execution_count": 14,
   "metadata": {},
   "outputs": [
    {
     "name": "stdout",
     "output_type": "stream",
     "text": [
      "0.01884735232204027\n",
      "0.01399233655397849\n"
     ]
    }
   ],
   "source": [
    "print(np.mean(brightness_data1))\n",
    "print(np.mean(brightness_data2))"
   ]
  },
  {
   "cell_type": "code",
   "execution_count": null,
   "metadata": {},
   "outputs": [],
   "source": []
  }
 ],
 "metadata": {
  "kernelspec": {
   "display_name": "Python 3",
   "language": "python",
   "name": "python3"
  },
  "language_info": {
   "codemirror_mode": {
    "name": "ipython",
    "version": 3
   },
   "file_extension": ".py",
   "mimetype": "text/x-python",
   "name": "python",
   "nbconvert_exporter": "python",
   "pygments_lexer": "ipython3",
   "version": "3.7.3"
  }
 },
 "nbformat": 4,
 "nbformat_minor": 2
}
