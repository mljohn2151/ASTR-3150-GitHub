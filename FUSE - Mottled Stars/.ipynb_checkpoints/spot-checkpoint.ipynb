{
 "cells": [
  {
   "cell_type": "code",
   "execution_count": 1,
   "metadata": {},
   "outputs": [],
   "source": [
    "%matplotlib inline\n",
    "import numpy as np\n",
    "import matplotlib.pyplot as plt\n",
    "from mpl_toolkits import mplot3d\n",
    "from mpl_toolkits.mplot3d import Axes3D\n",
    "from matplotlib import cm\n",
    "from matplotlib.ticker import LinearLocator\n",
    "from math import pi\n",
    "from random import randint\n",
    "import numpy.random as rand\n",
    "import matplotlib.colors as colors\n",
    "cconverter=colors.ColorConverter()\n",
    "from mpl_toolkits.mplot3d import Axes3D"
   ]
  },
  {
   "cell_type": "code",
   "execution_count": 2,
   "metadata": {},
   "outputs": [],
   "source": [
    "def spot(r, ρ, spot_ratio):\n",
    "    \n",
    "    lat = np.linspace(-np.pi/2, np.pi/2, 60)\n",
    "    lon = np.linspace(-np.pi,   np.pi,  120)\n",
    "    x3d = r * np.outer(np.cos(np.pi+lon), np.sin(np.pi/2 + lat))\n",
    "    y3d = r * np.outer(np.sin(np.pi+lon), np.sin(np.pi/2 + lat))\n",
    "    z3d = r * np.outer(np.ones(np.size(lon)), np.cos(np.pi/2 + lat))\n",
    "    \n",
    "    el_colors = np.full(x3d.shape, \"y\", dtype=str)\n",
    "    N_elems = len(lat)*len(lon)\n",
    "    N_spots = int(ρ*N_elems)\n",
    "\n",
    "    for n in range(N_spots):\n",
    "        x_spot = rand.randint(0, x3d.shape[0])\n",
    "        y_spot = rand.randint(0, x3d.shape[1])\n",
    "        el_colors[x_spot, y_spot] = \"r\"\n",
    "        \n",
    "    brightness = []\n",
    "    \n",
    "    rot_angle = np.linspace(0, 2 * np.pi, 120)\n",
    "\n",
    "    for zp in range(120):\n",
    "        phi_0 = lon[zp]\n",
    "        phi = np.linspace(phi_0 - np.pi/2, phi_0 + np.pi/2, 60)\n",
    "        x = r * np.sin(phi - phi[0] - np.pi/2)\n",
    "        y = r * np.sin(lat)\n",
    "    \n",
    "        dx = []\n",
    "        dy = []\n",
    "    \n",
    "        spot_data = []\n",
    "        df = []\n",
    "    \n",
    "        for q in range(len(x)-1):\n",
    "            dx.append(np.absolute(x[q]-x[q+1]))\n",
    "        for q in range(len(y)-1):\n",
    "            dy.append(np.absolute(y[q]-y[q+1]))\n",
    "    \n",
    "        for i in range(len(dx)):\n",
    "            k = zp -30 +i\n",
    "            if (zp - 30 + i) < 0:\n",
    "                k = 119 + (zp-30+i)\n",
    "            elif (zp - 30 + i) > 119: \n",
    "                k = (zp -30 +i) - 119\n",
    "            else:\n",
    "                k = zp - 30 + i\n",
    "\n",
    "            for j in range(len(dy)):\n",
    "                dA = dx[i]*dy[j]\n",
    "                if el_colors[k,j] == \"r\":\n",
    "                    df.append((spot_ratio**4)*dA)\n",
    "                else:\n",
    "                    df.append(dA)\n",
    "                           \n",
    "        brightness.append(sum(df))\n",
    "        \n",
    "    return (1 - min(brightness)/max(brightness))"
   ]
  },
  {
   "cell_type": "code",
   "execution_count": 3,
   "metadata": {
    "scrolled": true
   },
   "outputs": [],
   "source": [
    "brightness_data1 = []\n",
    "for i in range(1000):\n",
    "    brightness_data1.append(spot(100,.9,.85))"
   ]
  },
  {
   "cell_type": "code",
   "execution_count": 10,
   "metadata": {},
   "outputs": [
    {
     "data": {
      "image/png": "[encoded data removed]",
      "text/plain": [
       "<Figure size 432x288 with 1 Axes>"
      ]
     },
     "metadata": {},
     "output_type": "display_data"
    }
   ],
   "source": [
    "fig = plt.hist(brightness_data1, bins = 50) "
   ]
  },
  {
   "cell_type": "code",
   "execution_count": 5,
   "metadata": {},
   "outputs": [],
   "source": [
    "brightness_data2 = []\n",
    "for i in range(1000):\n",
    "    brightness_data2.append(spot(100,.6,.88))"
   ]
  },
  {
   "cell_type": "code",
   "execution_count": 6,
   "metadata": {},
   "outputs": [
    {
     "data": {
      "image/png": "[encoded data removed]",
      "text/plain": [
       "<Figure size 432x288 with 1 Axes>"
      ]
     },
     "metadata": {},
     "output_type": "display_data"
    }
   ],
   "source": [
    "fig = plt.hist(brightness_data2, bins = 50)"
   ]
  },
  {
   "cell_type": "code",
   "execution_count": 7,
   "metadata": {},
   "outputs": [
    {
     "data": {
      "text/plain": [
       "(array([  5.2381808 ,  15.71454241,  35.35772043,  30.11953963,\n",
       "         57.61998885,  58.92953405,  79.88225727, 104.76361609,\n",
       "         85.12043807,  99.52543528, 107.38270649,  89.04907367,\n",
       "         98.21589008,  58.92953405,  56.31044365,  60.23907925,\n",
       "         55.00089845,  41.90544644,  37.97681083,  26.19090402,\n",
       "         23.57181362,  22.26226842,  10.47636161,  24.88135882,\n",
       "          2.6190904 ,   5.2381808 ,   9.16681641,   1.3095452 ,\n",
       "          2.6190904 ,   3.9286356 ]),\n",
       " array([0.00273376, 0.00349739, 0.00426101, 0.00502463, 0.00578826,\n",
       "        0.00655188, 0.0073155 , 0.00807913, 0.00884275, 0.00960638,\n",
       "        0.01037   , 0.01113362, 0.01189725, 0.01266087, 0.0134245 ,\n",
       "        0.01418812, 0.01495174, 0.01571537, 0.01647899, 0.01724262,\n",
       "        0.01800624, 0.01876986, 0.01953349, 0.02029711, 0.02106073,\n",
       "        0.02182436, 0.02258798, 0.02335161, 0.02411523, 0.02487885,\n",
       "        0.02564248]),\n",
       " <a list of 30 Patch objects>)"
      ]
     },
     "execution_count": 7,
     "metadata": {},
     "output_type": "execute_result"
    },
    {
     "data": {
      "image/png": "[encoded data removed]",
      "text/plain": [
       "<Figure size 432x288 with 1 Axes>"
      ]
     },
     "metadata": {},
     "output_type": "display_data"
    }
   ],
   "source": [
    "plt.hist(brightness_data1, alpha=0.7, bins = 30, density=True) \n",
    "plt.hist(brightness_data2, alpha=0.7, bins = 30, density=True)"
   ]
  },
  {
   "cell_type": "code",
   "execution_count": 8,
   "metadata": {},
   "outputs": [],
   "source": [
    "brightness_data3 = []\n",
    "brightness_data4 = []\n",
    "for i in range(1000):\n",
    "    brightness_data3.append(spot(100, 0.50, 0.80))\n",
    "    brightness_data4.append(spot(100, 0.75, 0.80))"
   ]
  },
  {
   "cell_type": "code",
   "execution_count": 11,
   "metadata": {},
   "outputs": [
    {
     "data": {
      "text/plain": [
       "(array([ 6., 15., 16., 39., 55., 51., 73., 85., 66., 75., 79., 74., 60.,\n",
       "        49., 52., 34., 40., 28., 24., 21., 15., 10.,  7.,  8.,  7.,  5.,\n",
       "         2.,  0.,  1.,  3.]),\n",
       " array([0.00452447, 0.00596323, 0.00740199, 0.00884075, 0.01027951,\n",
       "        0.01171827, 0.01315703, 0.01459579, 0.01603454, 0.0174733 ,\n",
       "        0.01891206, 0.02035082, 0.02178958, 0.02322834, 0.0246671 ,\n",
       "        0.02610586, 0.02754461, 0.02898337, 0.03042213, 0.03186089,\n",
       "        0.03329965, 0.03473841, 0.03617717, 0.03761593, 0.03905468,\n",
       "        0.04049344, 0.0419322 , 0.04337096, 0.04480972, 0.04624848,\n",
       "        0.04768724]),\n",
       " <a list of 30 Patch objects>)"
      ]
     },
     "execution_count": 11,
     "metadata": {},
     "output_type": "execute_result"
    },
    {
     "data": {
      "image/png": "[encoded data removed]",
      "text/plain": [
       "<Figure size 432x288 with 1 Axes>"
      ]
     },
     "metadata": {},
     "output_type": "display_data"
    }
   ],
   "source": [
    "fig = plt.hist(brightness_data3, alpha=0.7, bins = 30) \n",
    "plt.hist(brightness_data4, alpha=0.7, bins = 30)"
   ]
  },
  {
   "cell_type": "code",
   "execution_count": null,
   "metadata": {},
   "outputs": [],
   "source": []
  }
 ],
 "metadata": {
  "kernelspec": {
   "display_name": "Python 3",
   "language": "python",
   "name": "python3"
  },
  "language_info": {
   "codemirror_mode": {
    "name": "ipython",
    "version": 3
   },
   "file_extension": ".py",
   "mimetype": "text/x-python",
   "name": "python",
   "nbconvert_exporter": "python",
   "pygments_lexer": "ipython3",
   "version": "3.6.5"
  }
 },
 "nbformat": 4,
 "nbformat_minor": 2
}
